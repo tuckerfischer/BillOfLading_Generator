{
 "cells": [
  {
   "cell_type": "code",
   "execution_count": 2,
   "metadata": {},
   "outputs": [],
   "source": [
    "import pandas as pd\n",
    "import pdfquery\n",
    "from bs4 import BeautifulSoup\n",
    "import xml.etree.ElementTree as ET\n",
    "from pypdf import PdfReader, PdfWriter"
   ]
  },
  {
   "cell_type": "code",
   "execution_count": null,
   "metadata": {},
   "outputs": [],
   "source": [
    "# Converting the PDF to XML\n",
    "file = 'BOL Template.pdf'\n",
    "pdf_reader = PdfReader(file)\n",
    "pdf_writer = PdfWriter()\n",
    "\n",
    "page = pdf_reader.pages[0]\n",
    "fields = pdf_reader.get_fields()\n",
    "for field in fields:\n",
    "    print(field)"
   ]
  },
  {
   "cell_type": "code",
   "execution_count": null,
   "metadata": {},
   "outputs": [],
   "source": [
    "def "
   ]
  },
  {
   "cell_type": "code",
   "execution_count": 6,
   "metadata": {},
   "outputs": [],
   "source": [
    "pdf_writer.add_page(page)\n",
    "\n",
    "pdf_writer.update_page_form_field_values(\n",
    "    pdf_writer.pages[0], {\"Carrier Name\": \"Test Carrier\"}\n",
    ")\n",
    "\n",
    "# write \"output\" to PyPDF2-output.pdf\n",
    "with open(\"filled-out.pdf\", \"wb\") as output_stream:\n",
    "    pdf_writer.write(output_stream)"
   ]
  },
  {
   "cell_type": "code",
   "execution_count": null,
   "metadata": {},
   "outputs": [],
   "source": []
  }
 ],
 "metadata": {
  "kernelspec": {
   "display_name": "pdfscraper",
   "language": "python",
   "name": "python3"
  },
  "language_info": {
   "codemirror_mode": {
    "name": "ipython",
    "version": 3
   },
   "file_extension": ".py",
   "mimetype": "text/x-python",
   "name": "python",
   "nbconvert_exporter": "python",
   "pygments_lexer": "ipython3",
   "version": "3.11.4"
  },
  "orig_nbformat": 4
 },
 "nbformat": 4,
 "nbformat_minor": 2
}
