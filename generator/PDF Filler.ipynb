{
 "cells": [
  {
   "cell_type": "code",
   "execution_count": 6,
   "metadata": {},
   "outputs": [],
   "source": [
    "from pypdf import PdfReader, PdfWriter\n",
    "import requests as req"
   ]
  },
  {
   "cell_type": "code",
   "execution_count": 7,
   "metadata": {},
   "outputs": [],
   "source": [
    "def fill_out_bol(fileName, dict):\n",
    "    file = '../assets/BOL Template.pdf'\n",
    "\n",
    "    pdf_writer = PdfWriter()\n",
    "    pdf_reader = PdfReader(file)\n",
    "\n",
    "    page = pdf_reader.pages[0]\n",
    "    pdf_writer.add_page(page)\n",
    "\n",
    "    pdf_writer.update_page_form_field_values(\n",
    "        pdf_writer.pages[0], dict\n",
    "    )\n",
    "\n",
    "    # write \"output\" to PyPDF2-output.pdf\n",
    "    with open(f\"../assets/{fileName}.pdf\", \"wb\") as output_stream:\n",
    "        pdf_writer.write(output_stream)"
   ]
  },
  {
   "cell_type": "code",
   "execution_count": null,
   "metadata": {},
   "outputs": [],
   "source": [
    "fake_data = req.get('http://localhost:8080/generated-bol')\n",
    "fake_data_test = fake_data.json()\n",
    "for list in fake_data_test:\n",
    "    file_name = list['Carrier Name']\n",
    "    fill_out_bol(file_name, list)"
   ]
  },
  {
   "cell_type": "code",
   "execution_count": null,
   "metadata": {},
   "outputs": [],
   "source": []
  }
 ],
 "metadata": {
  "kernelspec": {
   "display_name": "pdfscraper",
   "language": "python",
   "name": "python3"
  },
  "language_info": {
   "codemirror_mode": {
    "name": "ipython",
    "version": 3
   },
   "file_extension": ".py",
   "mimetype": "text/x-python",
   "name": "python",
   "nbconvert_exporter": "python",
   "pygments_lexer": "ipython3",
   "version": "3.11.4"
  },
  "orig_nbformat": 4
 },
 "nbformat": 4,
 "nbformat_minor": 2
}
